{
 "cells": [
  {
   "cell_type": "markdown",
   "metadata": {
    "colab_type": "text",
    "id": "V9aOWFPgPMS6"
   },
   "source": [
    "# Implementation"
   ]
  },
  {
   "cell_type": "markdown",
   "metadata": {
    "colab_type": "text",
    "id": "rsrhbn2APMS9"
   },
   "source": [
    "- Purpose of this project is to analyse the Jigsaw comment dataset and clssify the data based on toxicity\n",
    "- Three algorithms were tested based on the Naive Bayes, Logistic regression and support vector machine for different values of n grams and TFIDF norm values.\n",
    "- Appropriate value of 'n' in n-grams is slected using the result from above algorithms also better norm for TFIDF is selected.\n",
    "- Algorithms giving good performance are takena as baseline\n",
    "- Finally hyperparameters of the algorithms are tuned for better results."
   ]
  },
  {
   "cell_type": "markdown",
   "metadata": {
    "colab_type": "text",
    "id": "kyahCtuwPMTA"
   },
   "source": [
    "# Data"
   ]
  },
  {
   "cell_type": "markdown",
   "metadata": {
    "colab_type": "text",
    "id": "YUJ5WbKQPMTE"
   },
   "source": [
    "Jigsaw toxic comment data is chosen from kaggle competition for training and testing purpose. Jigsaw toxic comment data [2] is a set of data containing toxic comments and binary indicators to represent whether the data is toxic or non-toxic also level of toxicity in the message is also presented.\n",
    "\n",
    "Comments are in five categories:\n",
    "- severe_toxic\t\n",
    "- obscene\t\n",
    "- threat\n",
    "- insult\t\n",
    "- identity_hate"
   ]
  },
  {
   "cell_type": "markdown",
   "metadata": {
    "colab_type": "text",
    "id": "c97T5CRcPMTG"
   },
   "source": [
    "# Loading necessary dependecy for operation"
   ]
  },
  {
   "cell_type": "code",
   "execution_count": 1,
   "metadata": {
    "colab": {
     "base_uri": "https://localhost:8080/",
     "height": 73
    },
    "colab_type": "code",
    "id": "PC764MxTPMTU",
    "outputId": "2312b2dc-7e3f-4617-da4f-0c8496b06d82"
   },
   "outputs": [],
   "source": [
    "import nltk\n",
    "import pickle\n",
    "import re\n",
    "import time\n",
    "import warnings\n",
    "import csv\n",
    "import requests\n",
    "\n",
    "import numpy as np\n",
    "import pandas as pd\n",
    "import seaborn as sns\n",
    "import matplotlib.pyplot as plt\n",
    "import itertools\n",
    "import traceback\n",
    "from wordcloud import WordCloud\n",
    "\n",
    "from sklearn import preprocessing\n",
    "from nltk.stem.porter import *\n",
    "\n",
    "from sklearn import metrics\n",
    "from sklearn.feature_extraction.text import CountVectorizer\n",
    "from sklearn.feature_extraction.text import TfidfTransformer\n",
    "# from performance import *\n",
    "from sklearn.naive_bayes import GaussianNB\n",
    "from sklearn.linear_model import LogisticRegression\n",
    "from sklearn.linear_model import SGDClassifier\n",
    "from sklearn.model_selection import cross_val_score\n",
    "from sklearn.model_selection import GridSearchCV\n",
    "from sklearn.model_selection import KFold\n",
    "from sklearn.model_selection import train_test_split\n",
    "from sklearn.naive_bayes import MultinomialNB\n",
    "from sklearn.neighbors import KNeighborsClassifier\n",
    "from sklearn.pipeline import Pipeline\n",
    "from sklearn.preprocessing import StandardScaler\n",
    "from sklearn.svm import SVC\n",
    "from sklearn.tree import DecisionTreeClassifier\n",
    "from sklearn.metrics import classification_report,confusion_matrix\n",
    "from collections import Counter\n"
   ]
  },
  {
   "cell_type": "code",
   "execution_count": 2,
   "metadata": {
    "colab": {},
    "colab_type": "code",
    "id": "r7SJJCGXnvCq"
   },
   "outputs": [],
   "source": [
    "def telegram_bot_sendtext(bot_message):\n",
    "    \n",
    "    bot_token = ''\n",
    "    bot_chatID = ''\n",
    "    send_text = 'https://api.telegram.org/bot' + bot_token + '/sendMessage?chat_id=' + bot_chatID + '&parse_mode=Markdown&text=' + bot_message\n",
    "\n",
    "    response = requests.get(send_text)\n",
    "\n",
    "    bot_token_alan = ''\n",
    "    bot_chatID_alan = ''\n",
    "    send_text_alan = 'https://api.telegram.org/bot' + bot_token_alan + '/sendMessage?chat_id=' + bot_chatID_alan + '&parse_mode=Markdown&text=' + bot_message\n",
    "\n",
    "    response = requests.get(send_text_alan)\n",
    "\n",
    "    return response.json()\n"
   ]
  },
  {
   "cell_type": "code",
   "execution_count": 3,
   "metadata": {
    "colab": {
     "base_uri": "https://localhost:8080/",
     "height": 35
    },
    "colab_type": "code",
    "id": "2wGUE5eLPMTa",
    "outputId": "d2a92ff2-dc0e-4c80-c3b9-c4901e432da2"
   },
   "outputs": [
    {
     "name": "stdout",
     "output_type": "stream",
     "text": [
      "['1.0', '1.1', '1.2', '1.3', '2.0', '3.0', '4.0']\n"
     ]
    }
   ],
   "source": [
    "print(pickle.compatible_formats)"
   ]
  },
  {
   "cell_type": "markdown",
   "metadata": {
    "colab_type": "text",
    "id": "ECfYxCmUPMTg"
   },
   "source": [
    "# Exploratory data analysis"
   ]
  },
  {
   "cell_type": "markdown",
   "metadata": {
    "colab_type": "text",
    "id": "z2LAKecSPMTj"
   },
   "source": [
    "## Read the dataset"
   ]
  },
  {
   "cell_type": "code",
   "execution_count": 5,
   "metadata": {
    "colab": {
     "base_uri": "https://localhost:8080/",
     "height": 35
    },
    "colab_type": "code",
    "id": "3VbgXnEhPMTl",
    "outputId": "4b928b31-78ae-4f1f-cfb7-050859b30a28"
   },
   "outputs": [
    {
     "name": "stdout",
     "output_type": "stream",
     "text": [
      "<class 'pandas.core.frame.DataFrame'>\n"
     ]
    }
   ],
   "source": [
    "train_data = pd.read_csv(\"../data/train.csv\",index_col=False)\n",
    "test_data = pd.read_csv(\"../data/test.csv\",index_col=False)\n",
    "test_data_labels = pd.read_csv(\"../data/test_labels.csv\",index_col=False)\n",
    "test_data_labels.head()\n",
    "print(type(test_data))"
   ]
  },
  {
   "cell_type": "markdown",
   "metadata": {
    "colab_type": "text",
    "id": "RFOok89APMTu"
   },
   "source": [
    "## Preprocess the testing dataset"
   ]
  },
  {
   "cell_type": "markdown",
   "metadata": {
    "colab_type": "text",
    "id": "90yDxaKFPMTv"
   },
   "source": [
    "- If we look at the test dataset it has got three categories -1,0 and 1. \n",
    "- As per the guidelines from the kaggle it is stated that column value with -1 is not taken for grading.\n",
    "- So we need to remove that column since we actually don't know to which categories(toxic or non toxic) the data belongs to.\n",
    "- By removing the appropriate rows we can compare the performance for prediction and ground truth value.\n",
    "- Since -1 value is not consistent for different columns of toxicity we need to make local copy and remove appropriate rows."
   ]
  },
  {
   "cell_type": "code",
   "execution_count": 6,
   "metadata": {
    "colab": {
     "base_uri": "https://localhost:8080/",
     "height": 35
    },
    "colab_type": "code",
    "id": "9bDs4fgpPMTx",
    "outputId": "19e4a71c-24ca-4ee2-f80c-24cd88ca4978"
   },
   "outputs": [
    {
     "name": "stdout",
     "output_type": "stream",
     "text": [
      "63978 63978\n"
     ]
    }
   ],
   "source": [
    "test_data_toxic = test_data[['comment_text']].copy()\n",
    "test_data_labels_toxic = test_data_labels['toxic'].copy().to_frame('toxic')\n",
    "x = list(np.where(test_data_labels_toxic['toxic'] == -1)[0])\n",
    "test_data_labels_toxic = test_data_labels_toxic.drop(test_data_labels_toxic.index[x])\n",
    "test_data_toxic = test_data_toxic.drop(test_data_toxic.index[x])\n",
    "print(len(test_data_toxic),len(test_data_labels_toxic))"
   ]
  },
  {
   "cell_type": "markdown",
   "metadata": {
    "colab_type": "text",
    "id": "yMgSn3cxPMT8"
   },
   "source": [
    "## Dataset size"
   ]
  },
  {
   "cell_type": "code",
   "execution_count": 7,
   "metadata": {
    "colab": {
     "base_uri": "https://localhost:8080/",
     "height": 53
    },
    "colab_type": "code",
    "id": "L12oRfjJPMT9",
    "outputId": "7883b382-21af-4109-904f-10fc8510ead8"
   },
   "outputs": [
    {
     "name": "stdout",
     "output_type": "stream",
     "text": [
      "Train data size: (159571, 8)\n",
      "Test data size:  (153164, 2)\n"
     ]
    }
   ],
   "source": [
    "print(\"Train data size:\", train_data.shape)\n",
    "print(\"Test data size: \", test_data.shape)"
   ]
  },
  {
   "cell_type": "markdown",
   "metadata": {
    "colab_type": "text",
    "id": "jk2oroHHPMUE"
   },
   "source": [
    "## Charctersitics of data"
   ]
  },
  {
   "cell_type": "markdown",
   "metadata": {
    "colab_type": "text",
    "id": "jC20_2EjPMUF"
   },
   "source": [
    "### Train data"
   ]
  },
  {
   "cell_type": "code",
   "execution_count": null,
   "metadata": {
    "colab": {
     "base_uri": "https://localhost:8080/",
     "height": 297
    },
    "colab_type": "code",
    "id": "B1jt7DIUPMUG",
    "outputId": "bb1ed967-7bd4-4180-dda0-3e287e9a1b27"
   },
   "outputs": [
    {
     "data": {
      "text/html": [
       "<div>\n",
       "<style scoped>\n",
       "    .dataframe tbody tr th:only-of-type {\n",
       "        vertical-align: middle;\n",
       "    }\n",
       "\n",
       "    .dataframe tbody tr th {\n",
       "        vertical-align: top;\n",
       "    }\n",
       "\n",
       "    .dataframe thead th {\n",
       "        text-align: right;\n",
       "    }\n",
       "</style>\n",
       "<table border=\"1\" class=\"dataframe\">\n",
       "  <thead>\n",
       "    <tr style=\"text-align: right;\">\n",
       "      <th></th>\n",
       "      <th>toxic</th>\n",
       "      <th>severe_toxic</th>\n",
       "      <th>obscene</th>\n",
       "      <th>threat</th>\n",
       "      <th>insult</th>\n",
       "      <th>identity_hate</th>\n",
       "    </tr>\n",
       "  </thead>\n",
       "  <tbody>\n",
       "    <tr>\n",
       "      <th>count</th>\n",
       "      <td>159571.000000</td>\n",
       "      <td>159571.000000</td>\n",
       "      <td>159571.000000</td>\n",
       "      <td>159571.000000</td>\n",
       "      <td>159571.000000</td>\n",
       "      <td>159571.000000</td>\n",
       "    </tr>\n",
       "    <tr>\n",
       "      <th>mean</th>\n",
       "      <td>0.095844</td>\n",
       "      <td>0.009996</td>\n",
       "      <td>0.052948</td>\n",
       "      <td>0.002996</td>\n",
       "      <td>0.049364</td>\n",
       "      <td>0.008805</td>\n",
       "    </tr>\n",
       "    <tr>\n",
       "      <th>std</th>\n",
       "      <td>0.294379</td>\n",
       "      <td>0.099477</td>\n",
       "      <td>0.223931</td>\n",
       "      <td>0.054650</td>\n",
       "      <td>0.216627</td>\n",
       "      <td>0.093420</td>\n",
       "    </tr>\n",
       "    <tr>\n",
       "      <th>min</th>\n",
       "      <td>0.000000</td>\n",
       "      <td>0.000000</td>\n",
       "      <td>0.000000</td>\n",
       "      <td>0.000000</td>\n",
       "      <td>0.000000</td>\n",
       "      <td>0.000000</td>\n",
       "    </tr>\n",
       "    <tr>\n",
       "      <th>25%</th>\n",
       "      <td>0.000000</td>\n",
       "      <td>0.000000</td>\n",
       "      <td>0.000000</td>\n",
       "      <td>0.000000</td>\n",
       "      <td>0.000000</td>\n",
       "      <td>0.000000</td>\n",
       "    </tr>\n",
       "    <tr>\n",
       "      <th>50%</th>\n",
       "      <td>0.000000</td>\n",
       "      <td>0.000000</td>\n",
       "      <td>0.000000</td>\n",
       "      <td>0.000000</td>\n",
       "      <td>0.000000</td>\n",
       "      <td>0.000000</td>\n",
       "    </tr>\n",
       "    <tr>\n",
       "      <th>75%</th>\n",
       "      <td>0.000000</td>\n",
       "      <td>0.000000</td>\n",
       "      <td>0.000000</td>\n",
       "      <td>0.000000</td>\n",
       "      <td>0.000000</td>\n",
       "      <td>0.000000</td>\n",
       "    </tr>\n",
       "    <tr>\n",
       "      <th>max</th>\n",
       "      <td>1.000000</td>\n",
       "      <td>1.000000</td>\n",
       "      <td>1.000000</td>\n",
       "      <td>1.000000</td>\n",
       "      <td>1.000000</td>\n",
       "      <td>1.000000</td>\n",
       "    </tr>\n",
       "  </tbody>\n",
       "</table>\n",
       "</div>"
      ],
      "text/plain": [
       "               toxic   severe_toxic  ...         insult  identity_hate\n",
       "count  159571.000000  159571.000000  ...  159571.000000  159571.000000\n",
       "mean        0.095844       0.009996  ...       0.049364       0.008805\n",
       "std         0.294379       0.099477  ...       0.216627       0.093420\n",
       "min         0.000000       0.000000  ...       0.000000       0.000000\n",
       "25%         0.000000       0.000000  ...       0.000000       0.000000\n",
       "50%         0.000000       0.000000  ...       0.000000       0.000000\n",
       "75%         0.000000       0.000000  ...       0.000000       0.000000\n",
       "max         1.000000       1.000000  ...       1.000000       1.000000\n",
       "\n",
       "[8 rows x 6 columns]"
      ]
     },
     "execution_count": 21,
     "metadata": {
      "tags": []
     },
     "output_type": "execute_result"
    }
   ],
   "source": [
    "train_data.describe()"
   ]
  },
  {
   "cell_type": "code",
   "execution_count": null,
   "metadata": {
    "colab": {
     "base_uri": "https://localhost:8080/",
     "height": 193
    },
    "colab_type": "code",
    "id": "4GbbMSwZPMUL",
    "outputId": "bf06baef-0c56-43cf-964c-4c40f78a5ecf"
   },
   "outputs": [
    {
     "data": {
      "text/html": [
       "<div>\n",
       "<style scoped>\n",
       "    .dataframe tbody tr th:only-of-type {\n",
       "        vertical-align: middle;\n",
       "    }\n",
       "\n",
       "    .dataframe tbody tr th {\n",
       "        vertical-align: top;\n",
       "    }\n",
       "\n",
       "    .dataframe thead tr th {\n",
       "        text-align: left;\n",
       "    }\n",
       "\n",
       "    .dataframe thead tr:last-of-type th {\n",
       "        text-align: right;\n",
       "    }\n",
       "</style>\n",
       "<table border=\"1\" class=\"dataframe\">\n",
       "  <thead>\n",
       "    <tr>\n",
       "      <th></th>\n",
       "      <th colspan=\"8\" halign=\"left\">severe_toxic</th>\n",
       "      <th colspan=\"8\" halign=\"left\">obscene</th>\n",
       "      <th colspan=\"8\" halign=\"left\">threat</th>\n",
       "      <th colspan=\"8\" halign=\"left\">insult</th>\n",
       "      <th colspan=\"8\" halign=\"left\">identity_hate</th>\n",
       "    </tr>\n",
       "    <tr>\n",
       "      <th></th>\n",
       "      <th>count</th>\n",
       "      <th>mean</th>\n",
       "      <th>std</th>\n",
       "      <th>min</th>\n",
       "      <th>25%</th>\n",
       "      <th>50%</th>\n",
       "      <th>75%</th>\n",
       "      <th>max</th>\n",
       "      <th>count</th>\n",
       "      <th>mean</th>\n",
       "      <th>std</th>\n",
       "      <th>min</th>\n",
       "      <th>25%</th>\n",
       "      <th>50%</th>\n",
       "      <th>75%</th>\n",
       "      <th>max</th>\n",
       "      <th>count</th>\n",
       "      <th>mean</th>\n",
       "      <th>std</th>\n",
       "      <th>min</th>\n",
       "      <th>25%</th>\n",
       "      <th>50%</th>\n",
       "      <th>75%</th>\n",
       "      <th>max</th>\n",
       "      <th>count</th>\n",
       "      <th>mean</th>\n",
       "      <th>std</th>\n",
       "      <th>min</th>\n",
       "      <th>25%</th>\n",
       "      <th>50%</th>\n",
       "      <th>75%</th>\n",
       "      <th>max</th>\n",
       "      <th>count</th>\n",
       "      <th>mean</th>\n",
       "      <th>std</th>\n",
       "      <th>min</th>\n",
       "      <th>25%</th>\n",
       "      <th>50%</th>\n",
       "      <th>75%</th>\n",
       "      <th>max</th>\n",
       "    </tr>\n",
       "    <tr>\n",
       "      <th>toxic</th>\n",
       "      <th></th>\n",
       "      <th></th>\n",
       "      <th></th>\n",
       "      <th></th>\n",
       "      <th></th>\n",
       "      <th></th>\n",
       "      <th></th>\n",
       "      <th></th>\n",
       "      <th></th>\n",
       "      <th></th>\n",
       "      <th></th>\n",
       "      <th></th>\n",
       "      <th></th>\n",
       "      <th></th>\n",
       "      <th></th>\n",
       "      <th></th>\n",
       "      <th></th>\n",
       "      <th></th>\n",
       "      <th></th>\n",
       "      <th></th>\n",
       "      <th></th>\n",
       "      <th></th>\n",
       "      <th></th>\n",
       "      <th></th>\n",
       "      <th></th>\n",
       "      <th></th>\n",
       "      <th></th>\n",
       "      <th></th>\n",
       "      <th></th>\n",
       "      <th></th>\n",
       "      <th></th>\n",
       "      <th></th>\n",
       "      <th></th>\n",
       "      <th></th>\n",
       "      <th></th>\n",
       "      <th></th>\n",
       "      <th></th>\n",
       "      <th></th>\n",
       "      <th></th>\n",
       "      <th></th>\n",
       "    </tr>\n",
       "  </thead>\n",
       "  <tbody>\n",
       "    <tr>\n",
       "      <th>0</th>\n",
       "      <td>144277.0</td>\n",
       "      <td>0.000000</td>\n",
       "      <td>0.000000</td>\n",
       "      <td>0.0</td>\n",
       "      <td>0.0</td>\n",
       "      <td>0.0</td>\n",
       "      <td>0.0</td>\n",
       "      <td>0.0</td>\n",
       "      <td>144277.0</td>\n",
       "      <td>0.003625</td>\n",
       "      <td>0.060099</td>\n",
       "      <td>0.0</td>\n",
       "      <td>0.0</td>\n",
       "      <td>0.0</td>\n",
       "      <td>0.0</td>\n",
       "      <td>1.0</td>\n",
       "      <td>144277.0</td>\n",
       "      <td>0.000201</td>\n",
       "      <td>0.014176</td>\n",
       "      <td>0.0</td>\n",
       "      <td>0.0</td>\n",
       "      <td>0.0</td>\n",
       "      <td>0.0</td>\n",
       "      <td>1.0</td>\n",
       "      <td>144277.0</td>\n",
       "      <td>0.003694</td>\n",
       "      <td>0.060668</td>\n",
       "      <td>0.0</td>\n",
       "      <td>0.0</td>\n",
       "      <td>0.0</td>\n",
       "      <td>0.0</td>\n",
       "      <td>1.0</td>\n",
       "      <td>144277.0</td>\n",
       "      <td>0.000714</td>\n",
       "      <td>0.026710</td>\n",
       "      <td>0.0</td>\n",
       "      <td>0.0</td>\n",
       "      <td>0.0</td>\n",
       "      <td>0.0</td>\n",
       "      <td>1.0</td>\n",
       "    </tr>\n",
       "    <tr>\n",
       "      <th>1</th>\n",
       "      <td>15294.0</td>\n",
       "      <td>0.104289</td>\n",
       "      <td>0.305645</td>\n",
       "      <td>0.0</td>\n",
       "      <td>0.0</td>\n",
       "      <td>0.0</td>\n",
       "      <td>0.0</td>\n",
       "      <td>1.0</td>\n",
       "      <td>15294.0</td>\n",
       "      <td>0.518242</td>\n",
       "      <td>0.499683</td>\n",
       "      <td>0.0</td>\n",
       "      <td>0.0</td>\n",
       "      <td>1.0</td>\n",
       "      <td>1.0</td>\n",
       "      <td>1.0</td>\n",
       "      <td>15294.0</td>\n",
       "      <td>0.029358</td>\n",
       "      <td>0.168813</td>\n",
       "      <td>0.0</td>\n",
       "      <td>0.0</td>\n",
       "      <td>0.0</td>\n",
       "      <td>0.0</td>\n",
       "      <td>1.0</td>\n",
       "      <td>15294.0</td>\n",
       "      <td>0.480188</td>\n",
       "      <td>0.499624</td>\n",
       "      <td>0.0</td>\n",
       "      <td>0.0</td>\n",
       "      <td>0.0</td>\n",
       "      <td>1.0</td>\n",
       "      <td>1.0</td>\n",
       "      <td>15294.0</td>\n",
       "      <td>0.085131</td>\n",
       "      <td>0.279086</td>\n",
       "      <td>0.0</td>\n",
       "      <td>0.0</td>\n",
       "      <td>0.0</td>\n",
       "      <td>0.0</td>\n",
       "      <td>1.0</td>\n",
       "    </tr>\n",
       "  </tbody>\n",
       "</table>\n",
       "</div>"
      ],
      "text/plain": [
       "      severe_toxic                                ... identity_hate                    \n",
       "             count      mean       std  min  25%  ...           min  25%  50%  75%  max\n",
       "toxic                                             ...                                  \n",
       "0         144277.0  0.000000  0.000000  0.0  0.0  ...           0.0  0.0  0.0  0.0  1.0\n",
       "1          15294.0  0.104289  0.305645  0.0  0.0  ...           0.0  0.0  0.0  0.0  1.0\n",
       "\n",
       "[2 rows x 40 columns]"
      ]
     },
     "execution_count": 22,
     "metadata": {
      "tags": []
     },
     "output_type": "execute_result"
    }
   ],
   "source": [
    "train_data.groupby('toxic').describe()"
   ]
  },
  {
   "cell_type": "markdown",
   "metadata": {
    "colab_type": "text",
    "id": "JQ2YpiZPPMUR"
   },
   "source": [
    "### Test data"
   ]
  },
  {
   "cell_type": "code",
   "execution_count": null,
   "metadata": {
    "colab": {
     "base_uri": "https://localhost:8080/",
     "height": 173
    },
    "colab_type": "code",
    "id": "HMO3vcY0PMUS",
    "outputId": "10660496-bc25-4a44-b200-b2662628cd54"
   },
   "outputs": [
    {
     "data": {
      "text/html": [
       "<div>\n",
       "<style scoped>\n",
       "    .dataframe tbody tr th:only-of-type {\n",
       "        vertical-align: middle;\n",
       "    }\n",
       "\n",
       "    .dataframe tbody tr th {\n",
       "        vertical-align: top;\n",
       "    }\n",
       "\n",
       "    .dataframe thead th {\n",
       "        text-align: right;\n",
       "    }\n",
       "</style>\n",
       "<table border=\"1\" class=\"dataframe\">\n",
       "  <thead>\n",
       "    <tr style=\"text-align: right;\">\n",
       "      <th></th>\n",
       "      <th>id</th>\n",
       "      <th>comment_text</th>\n",
       "    </tr>\n",
       "  </thead>\n",
       "  <tbody>\n",
       "    <tr>\n",
       "      <th>count</th>\n",
       "      <td>153164</td>\n",
       "      <td>153164</td>\n",
       "    </tr>\n",
       "    <tr>\n",
       "      <th>unique</th>\n",
       "      <td>153164</td>\n",
       "      <td>153164</td>\n",
       "    </tr>\n",
       "    <tr>\n",
       "      <th>top</th>\n",
       "      <td>e8696ec7f26006e5</td>\n",
       "      <td>== Ham's wife == \\n\\n Why not bring it up on t...</td>\n",
       "    </tr>\n",
       "    <tr>\n",
       "      <th>freq</th>\n",
       "      <td>1</td>\n",
       "      <td>1</td>\n",
       "    </tr>\n",
       "  </tbody>\n",
       "</table>\n",
       "</div>"
      ],
      "text/plain": [
       "                      id                                       comment_text\n",
       "count             153164                                             153164\n",
       "unique            153164                                             153164\n",
       "top     e8696ec7f26006e5  == Ham's wife == \\n\\n Why not bring it up on t...\n",
       "freq                   1                                                  1"
      ]
     },
     "execution_count": 23,
     "metadata": {
      "tags": []
     },
     "output_type": "execute_result"
    }
   ],
   "source": [
    "test_data.describe()"
   ]
  },
  {
   "cell_type": "code",
   "execution_count": null,
   "metadata": {
    "colab": {},
    "colab_type": "code",
    "id": "kV29lsRxPMUZ"
   },
   "outputs": [],
   "source": []
  },
  {
   "cell_type": "markdown",
   "metadata": {
    "colab_type": "text",
    "id": "yiyj5_S0PMUe"
   },
   "source": [
    "## Visualize toxic comments counts"
   ]
  },
  {
   "cell_type": "code",
   "execution_count": null,
   "metadata": {
    "colab": {
     "base_uri": "https://localhost:8080/",
     "height": 693
    },
    "colab_type": "code",
    "id": "rQS_OZhMPMUe",
    "outputId": "553f118c-1f3c-4567-9a6a-e72c0718f7d9"
   },
   "outputs": [
    {
     "data": {
      "image/png": "[encoded data removed]",
      "text/plain": [
       "<Figure size 1080x360 with 3 Axes>"
      ]
     },
     "metadata": {
      "tags": []
     },
     "output_type": "display_data"
    },
    {
     "data": {
      "image/png": "[encoded data removed]",
      "text/plain": [
       "<Figure size 1080x360 with 3 Axes>"
      ]
     },
     "metadata": {
      "tags": []
     },
     "output_type": "display_data"
    }
   ],
   "source": [
    "sns.set(style=\"darkgrid\")\n",
    "\n",
    "f, axes = plt.subplots(1, 3, figsize=(15, 5), sharex=True)\n",
    "\n",
    "graph_1 = sns.countplot(x = 'toxic', data = train_data, palette = 'hls', ax=axes[0], order = [1, 0])\n",
    "graph_1.set_title('toxic count')\n",
    "\n",
    "graph_2 = sns.countplot(x = 'severe_toxic', data = train_data, palette = 'hls', ax=axes[1], order = [1, 0])\n",
    "graph_2.set_title('severe_toxic count')\n",
    "\n",
    "graph_3 = sns.countplot(x = 'obscene', data = train_data, palette = 'hls', ax=axes[2], order = [1, 0])\n",
    "graph_3.set_title('obscene count')\n",
    "\n",
    "f.subplots_adjust(wspace=0.4)\n",
    "\n",
    "f, axes = plt.subplots(1, 3, figsize=(15, 5), sharex=True)\n",
    "\n",
    "graph_4 = sns.countplot(x = 'threat', data = train_data, palette = 'hls', ax=axes[0], order = [1, 0])\n",
    "graph_4.set_title('threat count')\n",
    "\n",
    "graph_5 = sns.countplot(x = 'insult', data = train_data, palette = 'hls', ax=axes[1], order = [1, 0])\n",
    "graph_5.set_title('insult count')\n",
    "\n",
    "graph_6 = sns.countplot(x = 'identity_hate', data = train_data, palette = 'hls', ax=axes[2], order = [1, 0])\n",
    "graph_6.set_title('identity_hate count')\n",
    "\n",
    "f.subplots_adjust(wspace=0.4)\n",
    "\n",
    "\n",
    "for graph in [graph_1, graph_2, graph_3, graph_4, graph_5, graph_6]:\n",
    "    for p in graph.patches:\n",
    "        height = p.get_height()\n",
    "        graph.text(p.get_x()+p.get_width()/2., height + 0.1,height ,ha=\"center\")"
   ]
  },
  {
   "cell_type": "code",
   "execution_count": 8,
   "metadata": {
    "colab": {
     "base_uri": "https://localhost:8080/",
     "height": 35
    },
    "colab_type": "code",
    "id": "jZK-EDQJddw9",
    "outputId": "3144ca78-87f6-405a-b7a8-e37679699b70"
   },
   "outputs": [
    {
     "data": {
      "text/plain": [
       "<wordcloud.wordcloud.WordCloud at 0x7ff7f754e780>"
      ]
     },
     "execution_count": 8,
     "metadata": {},
     "output_type": "execute_result"
    }
   ],
   "source": [
    "text = train_data['comment_text'].tolist()\n",
    "tags = train_data['toxic'].tolist()\n",
    "\n",
    "# Generate strings for wordcloud\n",
    "toxic_text = \" \".join([words for words, tag in zip(text, tags) if tag == 1])\n",
    "notoxic_text = \" \".join([words for words, tag in zip(text, tags) if tag == 0])\n",
    "\n",
    "toxic_wordcloud = WordCloud(height=500, width=500, background_color='white', collocations=False).generate(toxic_text)\n",
    "notoxic_wordcloud = WordCloud(height=500, width=500, background_color='white', collocations=False).generate(notoxic_text)\n",
    "\n",
    "# Save wordclouds\n",
    "toxic_wordcloud.to_file(\"../images/Final/wordcloud/unigram_toxic_wordcloud.png\")\n",
    "notoxic_wordcloud.to_file(\"../images/Final/wordcloud/unigram_notoxic_wordcloud.png\")"
   ]
  },
  {
   "cell_type": "markdown",
   "metadata": {
    "colab_type": "text",
    "id": "IJGho839dniU"
   },
   "source": [
    "### Words used in toxic sentences\n",
    "<img src=\"../images/Final/wordcloud/unigram_toxic_wordcloud.png\">\n",
    "\n",
    "### Words used in no toxic sentences\n",
    "<img src=\"../images/Final/wordcloud/unigram_notoxic_wordcloud.png\">"
   ]
  },
  {
   "cell_type": "markdown",
   "metadata": {
    "colab_type": "text",
    "id": "-hDN7bMRPMUr"
   },
   "source": [
    "## Comments length based on number of words used"
   ]
  },
  {
   "cell_type": "code",
   "execution_count": null,
   "metadata": {
    "colab": {
     "base_uri": "https://localhost:8080/",
     "height": 359
    },
    "colab_type": "code",
    "id": "IaasisMDPMUt",
    "outputId": "ae2446b8-3ee2-4a0e-80bc-2409a39c7319"
   },
   "outputs": [
    {
     "data": {
      "text/html": [
       "<div>\n",
       "<style scoped>\n",
       "    .dataframe tbody tr th:only-of-type {\n",
       "        vertical-align: middle;\n",
       "    }\n",
       "\n",
       "    .dataframe tbody tr th {\n",
       "        vertical-align: top;\n",
       "    }\n",
       "\n",
       "    .dataframe thead th {\n",
       "        text-align: right;\n",
       "    }\n",
       "</style>\n",
       "<table border=\"1\" class=\"dataframe\">\n",
       "  <thead>\n",
       "    <tr style=\"text-align: right;\">\n",
       "      <th></th>\n",
       "      <th>id</th>\n",
       "      <th>comment_text</th>\n",
       "      <th>toxic</th>\n",
       "      <th>severe_toxic</th>\n",
       "      <th>obscene</th>\n",
       "      <th>threat</th>\n",
       "      <th>insult</th>\n",
       "      <th>identity_hate</th>\n",
       "      <th>length</th>\n",
       "    </tr>\n",
       "  </thead>\n",
       "  <tbody>\n",
       "    <tr>\n",
       "      <th>0</th>\n",
       "      <td>0000997932d777bf</td>\n",
       "      <td>Explanation\\nWhy the edits made under my usern...</td>\n",
       "      <td>0</td>\n",
       "      <td>0</td>\n",
       "      <td>0</td>\n",
       "      <td>0</td>\n",
       "      <td>0</td>\n",
       "      <td>0</td>\n",
       "      <td>264</td>\n",
       "    </tr>\n",
       "    <tr>\n",
       "      <th>1</th>\n",
       "      <td>000103f0d9cfb60f</td>\n",
       "      <td>D'aww! He matches this background colour I'm s...</td>\n",
       "      <td>0</td>\n",
       "      <td>0</td>\n",
       "      <td>0</td>\n",
       "      <td>0</td>\n",
       "      <td>0</td>\n",
       "      <td>0</td>\n",
       "      <td>112</td>\n",
       "    </tr>\n",
       "    <tr>\n",
       "      <th>2</th>\n",
       "      <td>000113f07ec002fd</td>\n",
       "      <td>Hey man, I'm really not trying to edit war. It...</td>\n",
       "      <td>0</td>\n",
       "      <td>0</td>\n",
       "      <td>0</td>\n",
       "      <td>0</td>\n",
       "      <td>0</td>\n",
       "      <td>0</td>\n",
       "      <td>233</td>\n",
       "    </tr>\n",
       "    <tr>\n",
       "      <th>3</th>\n",
       "      <td>0001b41b1c6bb37e</td>\n",
       "      <td>\"\\nMore\\nI can't make any real suggestions on ...</td>\n",
       "      <td>0</td>\n",
       "      <td>0</td>\n",
       "      <td>0</td>\n",
       "      <td>0</td>\n",
       "      <td>0</td>\n",
       "      <td>0</td>\n",
       "      <td>622</td>\n",
       "    </tr>\n",
       "    <tr>\n",
       "      <th>4</th>\n",
       "      <td>0001d958c54c6e35</td>\n",
       "      <td>You, sir, are my hero. Any chance you remember...</td>\n",
       "      <td>0</td>\n",
       "      <td>0</td>\n",
       "      <td>0</td>\n",
       "      <td>0</td>\n",
       "      <td>0</td>\n",
       "      <td>0</td>\n",
       "      <td>67</td>\n",
       "    </tr>\n",
       "    <tr>\n",
       "      <th>5</th>\n",
       "      <td>00025465d4725e87</td>\n",
       "      <td>\"\\n\\nCongratulations from me as well, use the ...</td>\n",
       "      <td>0</td>\n",
       "      <td>0</td>\n",
       "      <td>0</td>\n",
       "      <td>0</td>\n",
       "      <td>0</td>\n",
       "      <td>0</td>\n",
       "      <td>65</td>\n",
       "    </tr>\n",
       "    <tr>\n",
       "      <th>6</th>\n",
       "      <td>0002bcb3da6cb337</td>\n",
       "      <td>COCKSUCKER BEFORE YOU PISS AROUND ON MY WORK</td>\n",
       "      <td>1</td>\n",
       "      <td>1</td>\n",
       "      <td>1</td>\n",
       "      <td>0</td>\n",
       "      <td>1</td>\n",
       "      <td>0</td>\n",
       "      <td>44</td>\n",
       "    </tr>\n",
       "    <tr>\n",
       "      <th>7</th>\n",
       "      <td>00031b1e95af7921</td>\n",
       "      <td>Your vandalism to the Matt Shirvington article...</td>\n",
       "      <td>0</td>\n",
       "      <td>0</td>\n",
       "      <td>0</td>\n",
       "      <td>0</td>\n",
       "      <td>0</td>\n",
       "      <td>0</td>\n",
       "      <td>115</td>\n",
       "    </tr>\n",
       "    <tr>\n",
       "      <th>8</th>\n",
       "      <td>00037261f536c51d</td>\n",
       "      <td>Sorry if the word 'nonsense' was offensive to ...</td>\n",
       "      <td>0</td>\n",
       "      <td>0</td>\n",
       "      <td>0</td>\n",
       "      <td>0</td>\n",
       "      <td>0</td>\n",
       "      <td>0</td>\n",
       "      <td>472</td>\n",
       "    </tr>\n",
       "    <tr>\n",
       "      <th>9</th>\n",
       "      <td>00040093b2687caa</td>\n",
       "      <td>alignment on this subject and which are contra...</td>\n",
       "      <td>0</td>\n",
       "      <td>0</td>\n",
       "      <td>0</td>\n",
       "      <td>0</td>\n",
       "      <td>0</td>\n",
       "      <td>0</td>\n",
       "      <td>70</td>\n",
       "    </tr>\n",
       "  </tbody>\n",
       "</table>\n",
       "</div>"
      ],
      "text/plain": [
       "                 id  ... length\n",
       "0  0000997932d777bf  ...    264\n",
       "1  000103f0d9cfb60f  ...    112\n",
       "2  000113f07ec002fd  ...    233\n",
       "3  0001b41b1c6bb37e  ...    622\n",
       "4  0001d958c54c6e35  ...     67\n",
       "5  00025465d4725e87  ...     65\n",
       "6  0002bcb3da6cb337  ...     44\n",
       "7  00031b1e95af7921  ...    115\n",
       "8  00037261f536c51d  ...    472\n",
       "9  00040093b2687caa  ...     70\n",
       "\n",
       "[10 rows x 9 columns]"
      ]
     },
     "execution_count": 58,
     "metadata": {
      "tags": []
     },
     "output_type": "execute_result"
    }
   ],
   "source": [
    "train_data[\"length\"] = train_data[\"comment_text\"].apply(len)\n",
    "train_data.head(n=10)"
   ]
  },
  {
   "cell_type": "markdown",
   "metadata": {
    "colab_type": "text",
    "id": "wReBJ7YAPMUz"
   },
   "source": [
    "### Visualize the counts using histogram"
   ]
  },
  {
   "cell_type": "code",
   "execution_count": null,
   "metadata": {
    "colab": {
     "base_uri": "https://localhost:8080/",
     "height": 350
    },
    "colab_type": "code",
    "id": "lcaq6UeDPMU2",
    "outputId": "b3c2394f-1357-4fb5-d1f2-f73c148de04f"
   },
   "outputs": [
    {
     "data": {
      "image/png": "[encoded data removed]",
      "text/plain": [
       "<Figure size 1080x360 with 1 Axes>"
      ]
     },
     "metadata": {
      "needs_background": "light",
      "tags": []
     },
     "output_type": "display_data"
    }
   ],
   "source": [
    "f = plt.figure(figsize=(15, 5))\n",
    "\n",
    "plt.hist(train_data[\"length\"], 100)\n",
    "plt.title('Length histogram')\n",
    "plt.xlabel('Lenght [characters]')\n",
    "plt.ylabel('Frequency')\n",
    "\n",
    "plt.grid()\n",
    "plt.show()"
   ]
  },
  {
   "cell_type": "markdown",
   "metadata": {
    "colab_type": "text",
    "id": "h6C0jms5PMU9"
   },
   "source": [
    "### Charctersitics of length of data"
   ]
  },
  {
   "cell_type": "code",
   "execution_count": null,
   "metadata": {
    "colab": {
     "base_uri": "https://localhost:8080/",
     "height": 179
    },
    "colab_type": "code",
    "id": "Tl6nC-u8PMU_",
    "outputId": "66e0f4e3-5bbe-40fc-fbe0-5ee53d7da23d"
   },
   "outputs": [
    {
     "data": {
      "text/plain": [
       "count    159571.000000\n",
       "mean        394.073221\n",
       "std         590.720282\n",
       "min           6.000000\n",
       "25%          96.000000\n",
       "50%         205.000000\n",
       "75%         435.000000\n",
       "max        5000.000000\n",
       "Name: length, dtype: float64"
      ]
     },
     "execution_count": 27,
     "metadata": {
      "tags": []
     },
     "output_type": "execute_result"
    }
   ],
   "source": [
    "train_data.length.describe()"
   ]
  },
  {
   "cell_type": "markdown",
   "metadata": {
    "colab_type": "text",
    "id": "LXsKR6EQPMVG"
   },
   "source": [
    "# Performance comparison of algorithms w.r.t diferrent features"
   ]
  },
  {
   "cell_type": "markdown",
   "metadata": {
    "colab_type": "text",
    "id": "m64tIK_FPMVG"
   },
   "source": [
    "## Extract the class labels "
   ]
  },
  {
   "cell_type": "code",
   "execution_count": null,
   "metadata": {
    "colab": {
     "base_uri": "https://localhost:8080/",
     "height": 35
    },
    "colab_type": "code",
    "id": "a-vGZ4kfPMVH",
    "outputId": "d61c4dec-f14b-46f0-a18a-f2d9c07df3ae"
   },
   "outputs": [
    {
     "name": "stdout",
     "output_type": "stream",
     "text": [
      "<class 'numpy.ndarray'>\n"
     ]
    }
   ],
   "source": [
    "X_train = train_data['comment_text'].values\n",
    "# X_train = X_train[0:300]\n",
    "Y_train = train_data['toxic'].values\n",
    "# Y_train = Y_train[0:300]\n",
    "print(type(X_train))\n",
    "X_test = test_data_toxic['comment_text'].values\n",
    "Y_test = test_data_labels_toxic['toxic'].values"
   ]
  },
  {
   "cell_type": "markdown",
   "metadata": {
    "colab_type": "text",
    "id": "XUS9mMLWPMVS"
   },
   "source": [
    "## Train Naive Bayes algorithm iteratively for different sets of features"
   ]
  },
  {
   "cell_type": "code",
   "execution_count": null,
   "metadata": {
    "colab": {
     "base_uri": "https://localhost:8080/",
     "height": 127
    },
    "colab_type": "code",
    "id": "i_vDsfovPMVT",
    "outputId": "272dd0cf-23fd-4a30-95a7-4612c91b84d8"
   },
   "outputs": [
    {
     "name": "stderr",
     "output_type": "stream",
     "text": [
      "/usr/local/lib/python3.6/dist-packages/sklearn/model_selection/_split.py:296: FutureWarning: Setting a random_state has no effect since shuffle is False. This will raise an error in 0.24. You should leave random_state to its default (None), or set shuffle=True.\n",
      "  FutureWarning\n",
      "/usr/local/lib/python3.6/dist-packages/joblib/externals/loky/process_executor.py:691: UserWarning: A worker stopped while some jobs were given to the executor. This can be caused by a too short worker timeout or by a memory leak.\n",
      "  \"timeout or by a memory leak.\", UserWarning\n"
     ]
    },
    {
     "name": "stdout",
     "output_type": "stream",
     "text": [
      "Time taken: 2531.117730617523\n"
     ]
    }
   ],
   "source": [
    "def naive_bayes():\n",
    "  nb_clf = Pipeline([\n",
    "      ('vect', CountVectorizer()),\n",
    "      ('tfidf', TfidfTransformer()),\n",
    "      ('clf', MultinomialNB())\n",
    "  ])\n",
    "\n",
    "  param_grid = {'vect__ngram_range': ((1, 1), (1, 2), (1, 3)),\n",
    "                'tfidf__norm': ('l1', 'l2')\n",
    "              }\n",
    "\n",
    "  kfold = KFold(n_splits=10, random_state=23)\n",
    "  gs_nb_clf = GridSearchCV(nb_clf, param_grid=param_grid, n_jobs=-1, cv=kfold, scoring='accuracy')\n",
    "      \n",
    "  start = time.time()\n",
    "  gs_nb_clf = gs_nb_clf.fit(X_train, Y_train)\n",
    "\n",
    "  end = time.time()\n",
    "  print(\"Time taken:\", end - start)\n",
    "  naive_bayes = \"Execution of gridsearch for naive bayes is complete. Execution time: \"+str(end - start)+\" sec\"\n",
    "  with open(\"../model/Grid_search_modes/gs_nb_features.pkl\", 'wb') as gs_nb_clf_file:\n",
    "      pickle.dump(gs_nb_clf, gs_nb_clf_file, pickle.HIGHEST_PROTOCOL)\n",
    "  return naive_bayes\n",
    "\n",
    "var = None\n",
    "naive_bayes = None\n",
    "try:\n",
    "  naive_bayes = naive_bayes()\n",
    "except:\n",
    "  var = traceback.format_exc()\n",
    "\n",
    "if var == None:\n",
    "  telegram_bot_sendtext(naive_bayes)\n",
    "else:\n",
    "  telegram_bot_sendtext(var)"
   ]
  },
  {
   "cell_type": "markdown",
   "metadata": {
    "colab_type": "text",
    "id": "h_PaBtejPMVN"
   },
   "source": [
    "## Train Logistic regression algorithm iteratively for different sets of features"
   ]
  },
  {
   "cell_type": "code",
   "execution_count": null,
   "metadata": {
    "colab": {
     "base_uri": "https://localhost:8080/",
     "height": 271
    },
    "colab_type": "code",
    "id": "mcC5FY_pPMVO",
    "outputId": "0d6d9bbf-cb14-4aed-ec05-15432286d5c0"
   },
   "outputs": [
    {
     "name": "stderr",
     "output_type": "stream",
     "text": [
      "/usr/local/lib/python3.6/dist-packages/sklearn/model_selection/_split.py:296: FutureWarning: Setting a random_state has no effect since shuffle is False. This will raise an error in 0.24. You should leave random_state to its default (None), or set shuffle=True.\n",
      "  FutureWarning\n",
      "/usr/local/lib/python3.6/dist-packages/joblib/externals/loky/process_executor.py:691: UserWarning: A worker stopped while some jobs were given to the executor. This can be caused by a too short worker timeout or by a memory leak.\n",
      "  \"timeout or by a memory leak.\", UserWarning\n",
      "/usr/local/lib/python3.6/dist-packages/sklearn/linear_model/_logistic.py:940: ConvergenceWarning: lbfgs failed to converge (status=1):\n",
      "STOP: TOTAL NO. of ITERATIONS REACHED LIMIT.\n",
      "\n",
      "Increase the number of iterations (max_iter) or scale the data as shown in:\n",
      "    https://scikit-learn.org/stable/modules/preprocessing.html\n",
      "Please also refer to the documentation for alternative solver options:\n",
      "    https://scikit-learn.org/stable/modules/linear_model.html#logistic-regression\n",
      "  extra_warning_msg=_LOGISTIC_SOLVER_CONVERGENCE_MSG)\n"
     ]
    },
    {
     "name": "stdout",
     "output_type": "stream",
     "text": [
      "Time taken: 4871.411665439606\n"
     ]
    }
   ],
   "source": [
    "lr_clf = Pipeline([\n",
    "   ( 'vect', CountVectorizer()),\n",
    "    ('tfidf',TfidfTransformer()),\n",
    "    ('classifier',LogisticRegression()),\n",
    "])\n",
    "\n",
    "param_grid = {'vect__ngram_range': ((1, 1), (1, 2), (1, 3)),\n",
    "               'tfidf__norm': ('l1', 'l2')\n",
    "             }\n",
    "\n",
    "kfold = KFold(n_splits=10, random_state=23)\n",
    "gs_lr_clf = GridSearchCV(lr_clf, param_grid=param_grid, n_jobs=-1, cv=kfold, scoring='accuracy')\n",
    "\n",
    "start = time.time()\n",
    "gs_lr_clf = gs_lr_clf.fit(X_train, Y_train)\n",
    "end = time.time()\n",
    "print(\"Time taken:\", end - start)\n",
    "\n",
    "logistic_regression = \"Execution of gridsearch for logistic_regression is complete. Execution time: \"+str(end - start)+\" sec\"\n",
    "telegram_bot_sendtext(logistic_regression)\n",
    "\n",
    "with open(\"../model/Grid_search_modes/gs_lr_features.pkl\", 'wb') as gs_lr_clf_file:\n",
    "    pickle.dump(gs_lr_clf, gs_lr_clf_file, pickle.HIGHEST_PROTOCOL)"
   ]
  },
  {
   "cell_type": "markdown",
   "metadata": {
    "colab_type": "text",
    "id": "RpO9EgtqPMVY"
   },
   "source": [
    "## Train Support Vector Machine iteratively for different sets of features"
   ]
  },
  {
   "cell_type": "code",
   "execution_count": null,
   "metadata": {
    "colab": {
     "base_uri": "https://localhost:8080/",
     "height": 91
    },
    "colab_type": "code",
    "id": "NOUGsDNoPMVZ",
    "outputId": "ef929e7e-4b4a-487f-9d3e-5a75dc5a4523"
   },
   "outputs": [
    {
     "name": "stderr",
     "output_type": "stream",
     "text": [
      "/usr/local/lib/python3.6/dist-packages/sklearn/model_selection/_split.py:296: FutureWarning: Setting a random_state has no effect since shuffle is False. This will raise an error in 0.24. You should leave random_state to its default (None), or set shuffle=True.\n",
      "  FutureWarning\n"
     ]
    },
    {
     "name": "stdout",
     "output_type": "stream",
     "text": [
      "Time taken: 3118.977990627289\n"
     ]
    }
   ],
   "source": [
    "svm_clf = Pipeline([\n",
    "    ('vect', CountVectorizer()),\n",
    "    ('tfidf', TfidfTransformer()),\n",
    "    ('clf', SGDClassifier(tol=None, max_iter=100))\n",
    "])\n",
    "\n",
    "param_grid = {'vect__ngram_range': ((1, 1), (1, 2), (1, 3)),\n",
    "               'tfidf__norm': ('l1', 'l2')\n",
    "             }\n",
    "\n",
    "kfold = KFold(n_splits=10, random_state=23)\n",
    "gs_svm_clf = GridSearchCV(svm_clf, param_grid=param_grid, n_jobs=-1, cv=kfold, scoring='accuracy')\n",
    "\n",
    "start = time.time()\n",
    "gs_svm_clf = gs_svm_clf.fit(X_train, Y_train)\n",
    "# gs_svm_clf = svm_clf.fit(X_train, Y_train)\n",
    "end = time.time()\n",
    "print(\"Time taken:\", end - start)\n",
    "\n",
    "svm = \"Execution of gridsearch for support vector machine is complete. Execution time: \"+str(end - start)+\" sec\"\n",
    "telegram_bot_sendtext(svm)\n",
    "\n",
    "with open(\"../model/Grid_search_modes/gs_svm_features.pkl\", 'wb') as gs_svm_clf_file:\n",
    "    pickle.dump(gs_svm_clf, gs_svm_clf_file, pickle.HIGHEST_PROTOCOL)"
   ]
  },
  {
   "cell_type": "markdown",
   "metadata": {
    "colab_type": "text",
    "id": "wlXhHar2PMVd"
   },
   "source": [
    "## Plot the graph"
   ]
  },
  {
   "cell_type": "code",
   "execution_count": 11,
   "metadata": {
    "colab": {},
    "colab_type": "code",
    "id": "PEnwJkAxjRwq"
   },
   "outputs": [],
   "source": [
    "def draw_performance_comparison(x, y):\n",
    "    fig = plt.figure(figsize=(12,6))\n",
    "    ax1 = fig.add_subplot(111)\n",
    "\n",
    "    ax1.plot(x, y[0], label=\"Naive Bayes\")\n",
    "    ax1.plot(x, y[1], label=\"Logistic Regression\")\n",
    "    ax1.plot(x, y[2], label=\"Support Vector Machine\")\n",
    "\n",
    "    plt.xlabel('Features')\n",
    "    plt.ylabel('Validation Accuracy')\n",
    "    plt.title('Performance Comparison of Algorithms w.r.t different Features')\n",
    "    ax1.legend(loc=2)\n",
    "    plt.grid(True)\n",
    "    plt.savefig(\"../images/Final/Performance_graph/performance.png\")\t\n",
    "    plt.savefig(\"../images/Final/Performance_graph/performance.pdf\")\n",
    "    plt.show()\n"
   ]
  },
  {
   "cell_type": "code",
   "execution_count": 12,
   "metadata": {
    "colab": {
     "base_uri": "https://localhost:8080/",
     "height": 421
    },
    "colab_type": "code",
    "id": "xvZtyOkHPMVe",
    "outputId": "e492737f-6184-4bd7-cef7-ba7040c99555"
   },
   "outputs": [
    {
     "data": {
      "image/png": "[encoded data removed]",
      "text/plain": [
       "<Figure size 864x432 with 1 Axes>"
      ]
     },
     "metadata": {
      "needs_background": "light"
     },
     "output_type": "display_data"
    }
   ],
   "source": [
    "with open(\"../model/Grid_search_modes/gs_nb_features.pkl\", 'rb') as gs_nb_clf_file:\n",
    "    gs_nb_clf = pickle.load(gs_nb_clf_file)\n",
    "with open(\"../model/Grid_search_modes/gs_lr_features.pkl\", 'rb') as gs_lr_clf_file:\n",
    "    gs_lr_clf = pickle.load(gs_lr_clf_file)\n",
    "with open(\"../model/Grid_search_modes/gs_svm_features.pkl\", 'rb') as gs_svm_clf_file:\n",
    "    gs_svm_clf = pickle.load(gs_svm_clf_file)\n",
    "\n",
    "x = list()\n",
    "params = gs_nb_clf.cv_results_['params']\n",
    "for param in params:\n",
    "    norm = \"TDIDF norm: \" + str(param['tfidf__norm'])\n",
    "    ngram_range = \"N-gram range\" + str(param['vect__ngram_range'])\n",
    "    x.append(norm + \"\\n\" + ngram_range)\n",
    "    \n",
    "nb_means = gs_nb_clf.cv_results_['mean_test_score']\n",
    "lr_means = gs_lr_clf.cv_results_['mean_test_score']\n",
    "svm_means = gs_svm_clf.cv_results_['mean_test_score']\n",
    "y = [nb_means, lr_means, svm_means]\n",
    "performance = [[\"Naive_bayes:\",y[0]],[\"Logistic regression:\",y[1]],[\"Support vector machine:\",y[2]]]\n",
    "telegram_bot_sendtext(str(performance))\n",
    "draw_performance_comparison(x,y)"
   ]
  },
  {
   "cell_type": "markdown",
   "metadata": {
    "colab_type": "text",
    "id": "I4OsuL_DPMVj"
   },
   "source": [
    "# Hyperparamter Tuning"
   ]
  },
  {
   "cell_type": "markdown",
   "metadata": {
    "colab_type": "text",
    "id": "6Z7_y93iPMVj"
   },
   "source": [
    "### Tune hyperparameters of Naive Bayes"
   ]
  },
  {
   "cell_type": "code",
   "execution_count": null,
   "metadata": {
    "colab": {
     "base_uri": "https://localhost:8080/",
     "height": 91
    },
    "colab_type": "code",
    "id": "m2MN9O8FPMVp",
    "outputId": "bd4f7a85-24cc-417b-b7f9-48ace31bdfcb"
   },
   "outputs": [
    {
     "name": "stderr",
     "output_type": "stream",
     "text": [
      "/usr/local/lib/python3.6/dist-packages/sklearn/model_selection/_split.py:296: FutureWarning: Setting a random_state has no effect since shuffle is False. This will raise an error in 0.24. You should leave random_state to its default (None), or set shuffle=True.\n",
      "  FutureWarning\n"
     ]
    },
    {
     "name": "stdout",
     "output_type": "stream",
     "text": [
      "Time taken: 415.47970819473267\n"
     ]
    }
   ],
   "source": [
    "estimators_nb = [\n",
    "    ('vect', CountVectorizer(ngram_range=(1,1))),\n",
    "    ('tfidf', TfidfTransformer(norm='l2')),\n",
    "    ('clf', MultinomialNB()) \n",
    "]\n",
    "nb_clf = Pipeline(estimators_nb)\n",
    "\n",
    "param_grid = dict(\n",
    "    clf__alpha = [0.001, 0.01, 0.1, 1, 10],\n",
    ")\n",
    "kfold = KFold(n_splits=10, random_state=23)\n",
    "gs_nb_clf = GridSearchCV(nb_clf, param_grid=param_grid, n_jobs=-1, cv=kfold, scoring='accuracy')\n",
    "     \n",
    "start = time.time()\n",
    "gs_nb_clf = gs_nb_clf.fit(X_train, Y_train)\n",
    "end = time.time()\n",
    "print(\"Time taken:\", end - start)\n",
    "\n",
    "naive_bayes_tuned = \"Execution of hyperparameter tuning for naive bayes is complete. Execution time: \"+str(end - start)+\" sec\"\n",
    "telegram_bot_sendtext(naive_bayes_tuned)   \n",
    "\n",
    "with open(\"../model/Grid_search_modes/gs_nb_tuned.pkl\", 'wb') as gs_nb_clf_file:\n",
    "    pickle.dump(gs_nb_clf, gs_nb_clf_file, pickle.HIGHEST_PROTOCOL)"
   ]
  },
  {
   "cell_type": "markdown",
   "metadata": {
    "colab_type": "text",
    "id": "4kUtqXnXPMVy"
   },
   "source": [
    "## Performance"
   ]
  },
  {
   "cell_type": "code",
   "execution_count": null,
   "metadata": {
    "colab": {},
    "colab_type": "code",
    "id": "UdHs8bC8bmxt"
   },
   "outputs": [],
   "source": [
    "def draw_hp_performance_nb(x, y):\n",
    "    fig = plt.figure(figsize=(12,6))\n",
    "    ax1 = fig.add_subplot(111)\n",
    "\n",
    "    ax1.plot(x, y, label=\"Naive Bayes\")\n",
    "    ax1.annotate(str(round(max(y), 4)), xy=(x[y.index(max(y))], y[y.index(max(y))]), \n",
    "                    xytext=(x[y.index(max(y))], max(y) - 0.01),\n",
    "                    arrowprops=dict(facecolor='black', shrink=0.05))\n",
    "    plt.xlabel('Hyperparameters')\n",
    "    plt.ylabel('Validation Accuracy')\n",
    "    plt.title('Result of Naive Bayes for different hyperparameter values')\n",
    "    plt.grid(True)\n",
    "    plt.savefig(\"../images/Final/naive_bayes_hyperparameter_tuning/nb.png\")\t\n",
    "    plt.savefig(\"../images/Final/naive_bayes_hyperparameter_tuning/nb.pdf\")\n",
    "    plt.show()"
   ]
  },
  {
   "cell_type": "code",
   "execution_count": null,
   "metadata": {
    "colab": {
     "base_uri": "https://localhost:8080/",
     "height": 422
    },
    "colab_type": "code",
    "id": "x5E-9pCrPMVz",
    "outputId": "1cac781e-6b32-4524-919c-2ab77874672d"
   },
   "outputs": [
    {
     "data": {
      "image/png": "[encoded data removed]",
      "text/plain": [
       "<Figure size 864x432 with 1 Axes>"
      ]
     },
     "metadata": {
      "needs_background": "light",
      "tags": []
     },
     "output_type": "display_data"
    },
    {
     "name": "stdout",
     "output_type": "stream",
     "text": [
      "Best: 0.946939 using alpha: 0.01\n"
     ]
    }
   ],
   "source": [
    "# NB Results\n",
    "with open(\"../model/Grid_search_modes/gs_nb_tuned.pkl\", 'rb') as gs_nb_clf_file:\n",
    "    gs_nb_clf = pickle.load(gs_nb_clf_file)\n",
    "\n",
    "with open(\"../model/Grid_search_modes/gs_nb_features.pkl\", 'rb') as gs_nb_features_file:\n",
    "    gs_nb_features = pickle.load(gs_nb_features_file)\n",
    "\n",
    "x = list()\n",
    "params = gs_nb_clf.cv_results_['params']\n",
    "for param in params:\n",
    "    alpha = \"alpha: \" + str(param['clf__alpha'])\n",
    "    x.append(alpha)\n",
    "   \n",
    "nb_means = gs_nb_clf.cv_results_['mean_test_score']\n",
    "y = nb_means\n",
    "\n",
    "draw_hp_performance_nb(x, y)\n",
    "naive_bayes_tuned = str(\"Best validation accuracy for naive bayes: %f using %s\" % (max(y), x[y.index(max(y))]))\n",
    "\n",
    "telegram_bot_sendtext(naive_bayes_tuned)       \n",
    "print(\"Best: %f using %s\" % (max(y), x[y.index(max(y))]))"
   ]
  },
  {
   "cell_type": "markdown",
   "metadata": {
    "colab_type": "text",
    "id": "-QPrh-S9PMV5"
   },
   "source": [
    "## Tune hyperparameters of Logistic regressor"
   ]
  },
  {
   "cell_type": "code",
   "execution_count": null,
   "metadata": {
    "colab": {
     "base_uri": "https://localhost:8080/",
     "height": 91
    },
    "colab_type": "code",
    "id": "LBu3q1yyPMV6",
    "outputId": "ba16162e-3a30-4762-871c-e5c7fcbc020c"
   },
   "outputs": [
    {
     "name": "stderr",
     "output_type": "stream",
     "text": [
      "/usr/local/lib/python3.6/dist-packages/sklearn/model_selection/_split.py:296: FutureWarning: Setting a random_state has no effect since shuffle is False. This will raise an error in 0.24. You should leave random_state to its default (None), or set shuffle=True.\n",
      "  FutureWarning\n"
     ]
    },
    {
     "name": "stdout",
     "output_type": "stream",
     "text": [
      "Time taken: 2114.2145347595215\n"
     ]
    }
   ],
   "source": [
    "estimators_lr = [\n",
    "    ('vect', CountVectorizer(ngram_range=(1,1))),\n",
    "    ('tfidf', TfidfTransformer(norm='l2')),\n",
    "    ('clf', LogisticRegression(class_weight='balanced'))\n",
    "]\n",
    "lr_clf = Pipeline(estimators_lr)\n",
    "\n",
    "param_grid = dict(\n",
    "    clf__C = [0.01, 0.1, 1, 10, 100],\n",
    "    clf__solver = ['newton-cg', 'liblinear', 'lbfgs']\n",
    ")\n",
    "kfold = KFold(n_splits=10, random_state=23)\n",
    "gs_lr_clf = GridSearchCV(lr_clf, param_grid=param_grid, n_jobs=-1, cv=kfold, scoring='accuracy')\n",
    "\n",
    "start = time.time()\n",
    "with warnings.catch_warnings():\n",
    "    warnings.filterwarnings(\"ignore\")\n",
    "    gs_lr_clf = gs_lr_clf.fit(X_train, Y_train)\n",
    "end = time.time()\n",
    "print(\"Time taken:\", end - start)\n",
    "\n",
    "lr_tuned = \"Execution of hyperparameter tuning for logistic regression is complete. Execution time: \"+str(end - start)+\" sec\"\n",
    "telegram_bot_sendtext(lr_tuned)  \n",
    "\n",
    "with open(\"../model/Grid_search_modes/gs_lr_tuned.pkl\", 'wb') as gs_lr_clf_file:\n",
    "    pickle.dump(gs_lr_clf, gs_lr_clf_file, pickle.HIGHEST_PROTOCOL)"
   ]
  },
  {
   "cell_type": "markdown",
   "metadata": {
    "colab_type": "text",
    "id": "FxGx9HAwPMWA"
   },
   "source": [
    "## Performance"
   ]
  },
  {
   "cell_type": "code",
   "execution_count": null,
   "metadata": {
    "colab": {},
    "colab_type": "code",
    "id": "xkx-lQwNczql"
   },
   "outputs": [],
   "source": [
    "def draw_hp_performance_lr(x, y):\n",
    "    fig = plt.figure(figsize=(20,9))\n",
    "    ax1 = fig.add_subplot(111)\n",
    "\n",
    "    x, y = zip(*sorted(zip(x, y)))\n",
    "\n",
    "    ax1.plot(x, y, label=\"Logistic Regression\")\n",
    "    ax1.annotate(str(round(max(y), 4)), xy=(x[y.index(max(y))], y[y.index(max(y))]), \n",
    "                    xytext=(x[y.index(max(y))], max(y) - 0.01),\n",
    "                    arrowprops=dict(facecolor='black', shrink=0.05))\n",
    "    plt.xlabel('Hyperparameters')\n",
    "    plt.ylabel('Validation Accuracy')\n",
    "    plt.title('Result of Logistic Regression for different hyperparameter values')\n",
    "    plt.grid(True)\n",
    "    plt.savefig(\"../images/Final/logistic_regression_hyperparameter_tuning/lr.png\")\n",
    "    plt.savefig(\"../images/Final/logistic_regression_hyperparameter_tuning/lr.pdf\")\n",
    "    plt.show()"
   ]
  },
  {
   "cell_type": "code",
   "execution_count": null,
   "metadata": {
    "colab": {
     "base_uri": "https://localhost:8080/",
     "height": 615
    },
    "colab_type": "code",
    "id": "58bQSSwUPMWA",
    "outputId": "49bb0135-5a3d-44ae-e39f-170f6e361668"
   },
   "outputs": [
    {
     "data": {
      "image/png": "[encoded data removed]",
      "text/plain": [
       "<Figure size 1440x648 with 1 Axes>"
      ]
     },
     "metadata": {
      "needs_background": "light",
      "tags": []
     },
     "output_type": "display_data"
    },
    {
     "name": "stdout",
     "output_type": "stream",
     "text": [
      "Best: 0.951012 using C: 100\n",
      "Solver: lbfgs\n"
     ]
    }
   ],
   "source": [
    "with open(\"../model/Grid_search_modes/gs_lr_tuned.pkl\", 'rb') as gs_lr_clf_file:\n",
    "    gs_lr_clf = pickle.load(gs_lr_clf_file)\n",
    "\n",
    "with open(\"../model/Grid_search_modes/gs_lr_features.pkl\", 'rb') as gs_lr_features_file:\n",
    "    gs_lr_features = pickle.load(gs_lr_features_file)\n",
    "    \n",
    "x = list()\n",
    "params = gs_lr_clf.cv_results_['params']\n",
    "for param in params:\n",
    "    C = \"C: \" + str(param['clf__C'])\n",
    "    solver = \"Solver: \" + str(param['clf__solver'])\n",
    "    x.append(C + \"\\n\" + solver)\n",
    "    \n",
    "lr_means = gs_lr_clf.cv_results_['mean_test_score']\n",
    "y = lr_means\n",
    "\n",
    "draw_hp_performance_lr(x, y)\n",
    "lr_tuned_value = str(\"Best validation accuracy for logistic regression: %f using %s\" % (max(y), x[y.index(max(y))]))\n",
    "\n",
    "telegram_bot_sendtext(lr_tuned_value)     \n",
    "print(\"Best: %f using %s\" % (max(y), x[y.index(max(y))]))"
   ]
  },
  {
   "cell_type": "markdown",
   "metadata": {
    "colab_type": "text",
    "id": "rF1GPX5QPMWE"
   },
   "source": [
    "## Tune hyperparameters of support vector machine"
   ]
  },
  {
   "cell_type": "code",
   "execution_count": null,
   "metadata": {
    "colab": {
     "base_uri": "https://localhost:8080/",
     "height": 91
    },
    "colab_type": "code",
    "id": "0GhipiF2mx5Z",
    "outputId": "0527ed6e-91a5-4feb-f829-fd0749b7d469"
   },
   "outputs": [
    {
     "name": "stderr",
     "output_type": "stream",
     "text": [
      "/usr/local/lib/python3.6/dist-packages/sklearn/model_selection/_split.py:296: FutureWarning: Setting a random_state has no effect since shuffle is False. This will raise an error in 0.24. You should leave random_state to its default (None), or set shuffle=True.\n",
      "  FutureWarning\n"
     ]
    },
    {
     "name": "stdout",
     "output_type": "stream",
     "text": [
      "Time taken: 613.0611274242401\n"
     ]
    }
   ],
   "source": [
    "estimators_svm = [\n",
    "    ('vect', CountVectorizer(ngram_range=(1,1))),\n",
    "    ('tfidf', TfidfTransformer(norm='l2')),\n",
    "    ('clf', SGDClassifier(tol=None, max_iter=100))\n",
    "]\n",
    "svm_clf = Pipeline(estimators_svm)\n",
    "\n",
    "param_grid = dict(\n",
    "    clf__alpha = [0.00001, 0.0001, 0.001, 0.01, 0.1],\n",
    ")\n",
    "# param_grid = {'clf__learning_rate': [ 0.1, 1, 10, 100], \n",
    "#               'clf__loss':['log']}\n",
    "\n",
    "kfold = KFold(n_splits=10, random_state=23)\n",
    "gs_svm_clf = GridSearchCV(svm_clf, param_grid=param_grid, n_jobs=-1, cv=kfold, scoring='accuracy')\n",
    "\n",
    "start = time.time()\n",
    "with warnings.catch_warnings():\n",
    "    warnings.filterwarnings(\"ignore\")\n",
    "    gs_svm_clf = gs_svm_clf.fit(X_train, Y_train)\n",
    "end = time.time()\n",
    "print(\"Time taken:\", end - start)\n",
    "\n",
    "svm_tuned = \"Execution of hyperparameter tuning for svm is complete. Execution time: \"+str(end - start)+\" sec\"\n",
    "telegram_bot_sendtext(svm_tuned) \n",
    "\n",
    "with open(\"../model/Grid_search_modes/gs_svm_tuned.pkl\", 'wb') as gs_svm_clf_file:\n",
    "    pickle.dump(gs_svm_clf, gs_svm_clf_file, pickle.HIGHEST_PROTOCOL)"
   ]
  },
  {
   "cell_type": "code",
   "execution_count": null,
   "metadata": {
    "colab": {},
    "colab_type": "code",
    "id": "Lwgu-1_Qd5xn"
   },
   "outputs": [],
   "source": [
    "def draw_hp_performance_svm(x, y):\n",
    "    fig = plt.figure(figsize=(12,6))\n",
    "    ax1 = fig.add_subplot(111)\n",
    "\n",
    "    x, y = zip(*sorted(zip(x, y)))\n",
    "\n",
    "    ax1.plot(x, y, label=\"Support vector machine\")\n",
    "    ax1.annotate(str(round(max(y), 4)), xy=(x[y.index(max(y))], y[y.index(max(y))]), \n",
    "                    xytext=(x[y.index(max(y))], max(y) - 0.01),\n",
    "                    arrowprops=dict(facecolor='black', shrink=0.05))\n",
    "    plt.xlabel('Hyperparameters')\n",
    "    plt.ylabel('Validation Accuracy')\n",
    "    plt.title('Result of support vector machine for different hyperparameter values')\n",
    "    plt.grid(True)\n",
    "    plt.savefig(\"../images/Final/SVM_hyperparameter_tuning/svm.png\")\n",
    "    plt.savefig(\"../images/Final/SVM_hyperparameter_tuning/svm.pdf\")\n",
    "\n",
    "    plt.show()"
   ]
  },
  {
   "cell_type": "code",
   "execution_count": null,
   "metadata": {
    "colab": {
     "base_uri": "https://localhost:8080/",
     "height": 422
    },
    "colab_type": "code",
    "id": "ugffC50Lm2fl",
    "outputId": "b3ec37a6-fca0-4e7a-c634-09480bc724f2"
   },
   "outputs": [
    {
     "data": {
      "image/png": "[encoded data removed]",
      "text/plain": [
       "<Figure size 864x432 with 1 Axes>"
      ]
     },
     "metadata": {
      "needs_background": "light",
      "tags": []
     },
     "output_type": "display_data"
    },
    {
     "name": "stdout",
     "output_type": "stream",
     "text": [
      "Best: 0.960713 using alpha: 0.00001\n"
     ]
    }
   ],
   "source": [
    "with open(\"../model/Grid_search_modes/gs_svm_tuned.pkl\", 'rb') as gs_svm_clf_file:\n",
    "    gs_svm_clf = pickle.load(gs_svm_clf_file)\n",
    "\n",
    "with open(\"../model/Grid_search_modes/gs_svm_features.pkl\", 'rb') as gs_svm_features_file:\n",
    "    gs_svm_features = pickle.load(gs_svm_features_file)\n",
    "    \n",
    "x = list()\n",
    "params = gs_svm_clf.cv_results_['params']\n",
    "for param in params:\n",
    "    alpha = \"alpha: \" + str(np.format_float_positional(param['clf__alpha'], trim='-'))\n",
    "    x.append(alpha)\n",
    "    \n",
    "svm_means = gs_svm_clf.cv_results_['mean_test_score']\n",
    "y = svm_means\n",
    "\n",
    "draw_hp_performance_svm(x, y)\n",
    "svm_tuned_value = str(\"Best accuracy for svm: %f using %s\" % (max(y), x[y.index(max(y))]))\n",
    "\n",
    "telegram_bot_sendtext(svm_tuned_value) \n",
    "print(\"Best: %f using %s\" % (max(y), x[y.index(max(y))]))"
   ]
  },
  {
   "cell_type": "markdown",
   "metadata": {
    "colab_type": "text",
    "id": "B4akDF6N194_"
   },
   "source": [
    "### It is evident from the above result that support vector machine outperforme naive bayes and logistic regression for alpha = 0.00001 (Learning rate), l2 norm and (1,1) n grams. So 6 different levels of toxicity is trained with svm classifier with above mentioned hyperparameter to achive good result. \n"
   ]
  },
  {
   "cell_type": "markdown",
   "metadata": {
    "colab_type": "text",
    "id": "ZVWzkwM-3Att"
   },
   "source": [
    "### SVM classifier for 6 different classes"
   ]
  },
  {
   "cell_type": "code",
   "execution_count": 7,
   "metadata": {
    "colab": {},
    "colab_type": "code",
    "id": "70iuvrR77QGl"
   },
   "outputs": [],
   "source": [
    "class SVM():\n",
    "    def __init__(self, train_data, test_data, comment_type):\n",
    "        if(comment_type not in train_data):\n",
    "            raise Exception(comment_type + ' is not found in the training data')            \n",
    "\n",
    "        self.X_train = train_data['comment_text'].values\n",
    "        self.Y_train = train_data[comment_type].values\n",
    "        self.X_test = test_data['comment_text'].values\n",
    "        self.Y_test = test_data[comment_type].values\n",
    "        self.comment_type = comment_type\n",
    "\n",
    "\n",
    "    def train(self):\n",
    "        estimators_svm = [('vect', CountVectorizer(ngram_range=(1,1))),\n",
    "                            ('tfidf', TfidfTransformer(norm='l2')),\n",
    "                            ('clf', SGDClassifier(tol=None, max_iter=100,alpha=0.00001))]\n",
    "\n",
    "        self.svm_clf = Pipeline(estimators_svm)\n",
    "        \n",
    "        print(\"start\")\n",
    "        start = time.time()\n",
    "        with warnings.catch_warnings():\n",
    "            warnings.filterwarnings(\"ignore\")\n",
    "            self.svm_clf = self.svm_clf.fit(self.X_train, self.Y_train)\n",
    "        end = time.time()\n",
    "        print(\"Time taken:\", end - start)\n",
    "\n",
    "        svm_tuned_new = str(self.comment_type)+\": Training complete. Execution time: \" + str(end - start) + \" sec\"\n",
    "        telegram_bot_sendtext(svm_tuned_new) \n",
    "\n",
    "        with open(\"../model/svm_trained_model/svm_\" + str(self.comment_type) + \".pkl\", 'wb') as svm_clf_file:\n",
    "            pickle.dump(self.svm_clf, svm_clf_file, pickle.HIGHEST_PROTOCOL)\n",
    "\n",
    "    def load_model(self, file):\n",
    "        self.svm_clf = pickle.load(open(file, 'rb'))\n",
    "            \n",
    "    def performance_meaure(self):\n",
    "        self.prediction = self.svm_clf.predict(self.X_test)\n",
    "        print(classification_report(self.prediction, self.Y_test))\n",
    "        print(\"-\"*20)\n",
    "        print(\"confusion matrix\")\n",
    "        print(self.confusion_matrix())\n",
    "\n",
    "    def confusion_matrix(self):\n",
    "        data = {'y_Actual': self.Y_test,\n",
    "            'y_Predicted': self.prediction}\n",
    "\n",
    "        df = pd.DataFrame(data, columns=['y_Actual','y_Predicted'])\n",
    "        confusion_matrix = pd.crosstab(df['y_Actual'], df['y_Predicted'], rownames=['Actual'], colnames=['Predicted'])\n",
    "        sns.heatmap(confusion_matrix, annot=True, fmt='d')\n",
    "        plt.savefig(\"../images/Final/Confusion_matrix/\" + str(self.comment_type) + \".pdf\")\n",
    "        plt.show()"
   ]
  },
  {
   "cell_type": "markdown",
   "metadata": {
    "colab_type": "text",
    "id": "H3k97pnSBtgB"
   },
   "source": [
    "### Load data"
   ]
  },
  {
   "cell_type": "code",
   "execution_count": 8,
   "metadata": {
    "colab": {},
    "colab_type": "code",
    "id": "KNuyxRzoBsv_"
   },
   "outputs": [],
   "source": [
    "train_data = pd.read_csv(\"../data/train.csv\",index_col=False)\n",
    "\n",
    "test_data_comments = pd.read_csv(\"../data/test.csv\",index_col=False)\n",
    "test_data_labels = pd.read_csv(\"../data/test_labels.csv\",index_col=False)\n",
    "\n",
    "test_data = pd.concat([test_data_comments, test_data_labels.drop(['id'], axis=1)], axis=1, sort=False)\n",
    "test_data = test_data[test_data['toxic'] != -1]"
   ]
  },
  {
   "cell_type": "code",
   "execution_count": 9,
   "metadata": {
    "colab": {
     "base_uri": "https://localhost:8080/",
     "height": 531
    },
    "colab_type": "code",
    "id": "o6M7guqNAwt_",
    "outputId": "9d9d8957-9f23-4ea9-db17-654e80373b6a"
   },
   "outputs": [
    {
     "name": "stdout",
     "output_type": "stream",
     "text": [
      "start\n",
      "Time taken: 10.101313591003418\n",
      "              precision    recall  f1-score   support\n",
      "\n",
      "           0       0.95      0.97      0.96     56684\n",
      "           1       0.76      0.64      0.69      7294\n",
      "\n",
      "    accuracy                           0.94     63978\n",
      "   macro avg       0.86      0.81      0.83     63978\n",
      "weighted avg       0.93      0.94      0.93     63978\n",
      "\n",
      "--------------------\n",
      "confusion matrix\n"
     ]
    },
    {
     "data": {
      "image/png": "[encoded data removed]",
      "text/plain": [
       "<Figure size 432x288 with 2 Axes>"
      ]
     },
     "metadata": {
      "needs_background": "light"
     },
     "output_type": "display_data"
    },
    {
     "name": "stdout",
     "output_type": "stream",
     "text": [
      "None\n"
     ]
    }
   ],
   "source": [
    "svm_toxic = SVM(train_data, test_data, 'toxic')\n",
    "svm_toxic.train()\n",
    "svm_toxic.performance_meaure()"
   ]
  },
  {
   "cell_type": "code",
   "execution_count": 10,
   "metadata": {
    "colab": {
     "base_uri": "https://localhost:8080/",
     "height": 531
    },
    "colab_type": "code",
    "id": "1ueSupMKmLhE",
    "outputId": "7c33e589-0ae6-4dfc-b141-3847fe6b4256"
   },
   "outputs": [
    {
     "name": "stdout",
     "output_type": "stream",
     "text": [
      "start\n",
      "Time taken: 10.526662111282349\n",
      "              precision    recall  f1-score   support\n",
      "\n",
      "           0       1.00      0.99      1.00     63911\n",
      "           1       0.07      0.39      0.12        67\n",
      "\n",
      "    accuracy                           0.99     63978\n",
      "   macro avg       0.54      0.69      0.56     63978\n",
      "weighted avg       1.00      0.99      1.00     63978\n",
      "\n",
      "--------------------\n",
      "confusion matrix\n"
     ]
    },
    {
     "data": {
      "image/png": "[encoded data removed]",
      "text/plain": [
       "<Figure size 432x288 with 2 Axes>"
      ]
     },
     "metadata": {
      "needs_background": "light"
     },
     "output_type": "display_data"
    },
    {
     "name": "stdout",
     "output_type": "stream",
     "text": [
      "None\n"
     ]
    }
   ],
   "source": [
    "svm_severe_toxic = SVM(train_data, test_data, 'severe_toxic')\n",
    "svm_severe_toxic.train()\n",
    "svm_severe_toxic.performance_meaure()"
   ]
  },
  {
   "cell_type": "code",
   "execution_count": 11,
   "metadata": {
    "colab": {
     "base_uri": "https://localhost:8080/",
     "height": 531
    },
    "colab_type": "code",
    "id": "154F4uLOnrLu",
    "outputId": "c4f6128a-c9fc-419a-9646-f6d27df5c1a4"
   },
   "outputs": [
    {
     "name": "stdout",
     "output_type": "stream",
     "text": [
      "start\n",
      "Time taken: 12.23163652420044\n",
      "              precision    recall  f1-score   support\n",
      "\n",
      "           0       0.98      0.98      0.98     60426\n",
      "           1       0.67      0.70      0.69      3552\n",
      "\n",
      "    accuracy                           0.96     63978\n",
      "   macro avg       0.83      0.84      0.83     63978\n",
      "weighted avg       0.97      0.96      0.96     63978\n",
      "\n",
      "--------------------\n",
      "confusion matrix\n"
     ]
    },
    {
     "data": {
      "image/png": "[encoded data removed]",
      "text/plain": [
       "<Figure size 432x288 with 2 Axes>"
      ]
     },
     "metadata": {
      "needs_background": "light"
     },
     "output_type": "display_data"
    },
    {
     "name": "stdout",
     "output_type": "stream",
     "text": [
      "None\n"
     ]
    }
   ],
   "source": [
    "svm_obscene = SVM(train_data, test_data, 'obscene')\n",
    "svm_obscene.train()\n",
    "svm_obscene.performance_meaure()"
   ]
  },
  {
   "cell_type": "code",
   "execution_count": 12,
   "metadata": {
    "colab": {
     "base_uri": "https://localhost:8080/",
     "height": 531
    },
    "colab_type": "code",
    "id": "2mo3-hg-iGw7",
    "outputId": "5fc4257c-6529-4b8d-abee-8c1a260e4727"
   },
   "outputs": [
    {
     "name": "stdout",
     "output_type": "stream",
     "text": [
      "start\n",
      "Time taken: 12.167128324508667\n",
      "              precision    recall  f1-score   support\n",
      "\n",
      "           0       1.00      1.00      1.00     63922\n",
      "           1       0.17      0.64      0.27        56\n",
      "\n",
      "    accuracy                           1.00     63978\n",
      "   macro avg       0.59      0.82      0.63     63978\n",
      "weighted avg       1.00      1.00      1.00     63978\n",
      "\n",
      "--------------------\n",
      "confusion matrix\n"
     ]
    },
    {
     "data": {
      "image/png": "[encoded data removed]",
      "text/plain": [
       "<Figure size 432x288 with 2 Axes>"
      ]
     },
     "metadata": {
      "needs_background": "light"
     },
     "output_type": "display_data"
    },
    {
     "name": "stdout",
     "output_type": "stream",
     "text": [
      "None\n"
     ]
    }
   ],
   "source": [
    "svm_threat = SVM(train_data, test_data, 'threat')\n",
    "svm_threat.train()\n",
    "svm_threat.performance_meaure()"
   ]
  },
  {
   "cell_type": "code",
   "execution_count": 13,
   "metadata": {
    "colab": {
     "base_uri": "https://localhost:8080/",
     "height": 531
    },
    "colab_type": "code",
    "id": "zPbNIEsKiQ4C",
    "outputId": "9aa7bcc9-c520-492a-8778-c11afb97ec6b"
   },
   "outputs": [
    {
     "name": "stdout",
     "output_type": "stream",
     "text": [
      "start\n",
      "Time taken: 12.20309829711914\n",
      "              precision    recall  f1-score   support\n",
      "\n",
      "           0       0.99      0.98      0.98     61214\n",
      "           1       0.56      0.70      0.63      2764\n",
      "\n",
      "    accuracy                           0.96     63978\n",
      "   macro avg       0.78      0.84      0.80     63978\n",
      "weighted avg       0.97      0.96      0.97     63978\n",
      "\n",
      "--------------------\n",
      "confusion matrix\n"
     ]
    },
    {
     "data": {
      "image/png": "[encoded data removed]",
      "text/plain": [
       "<Figure size 432x288 with 2 Axes>"
      ]
     },
     "metadata": {
      "needs_background": "light"
     },
     "output_type": "display_data"
    },
    {
     "name": "stdout",
     "output_type": "stream",
     "text": [
      "None\n"
     ]
    }
   ],
   "source": [
    "svm_insult = SVM(train_data, test_data, 'insult')\n",
    "svm_insult.train()\n",
    "svm_insult.performance_meaure()"
   ]
  },
  {
   "cell_type": "code",
   "execution_count": 14,
   "metadata": {
    "colab": {
     "base_uri": "https://localhost:8080/",
     "height": 531
    },
    "colab_type": "code",
    "id": "Ai47gY4AiTTC",
    "outputId": "3fd5a951-8e6b-4b72-c89f-293eb14e9288"
   },
   "outputs": [
    {
     "name": "stdout",
     "output_type": "stream",
     "text": [
      "start\n",
      "Time taken: 11.810347080230713\n",
      "              precision    recall  f1-score   support\n",
      "\n",
      "           0       1.00      0.99      1.00     63780\n",
      "           1       0.21      0.76      0.33       198\n",
      "\n",
      "    accuracy                           0.99     63978\n",
      "   macro avg       0.61      0.88      0.66     63978\n",
      "weighted avg       1.00      0.99      0.99     63978\n",
      "\n",
      "--------------------\n",
      "confusion matrix\n"
     ]
    },
    {
     "data": {
      "image/png": "[encoded data removed]",
      "text/plain": [
       "<Figure size 432x288 with 2 Axes>"
      ]
     },
     "metadata": {
      "needs_background": "light"
     },
     "output_type": "display_data"
    },
    {
     "name": "stdout",
     "output_type": "stream",
     "text": [
      "None\n"
     ]
    }
   ],
   "source": [
    "svm_identity_hate = SVM(train_data, test_data, 'identity_hate')\n",
    "svm_identity_hate.train()\n",
    "svm_identity_hate.performance_meaure()"
   ]
  },
  {
   "cell_type": "markdown",
   "metadata": {},
   "source": [
    "## Test and play"
   ]
  },
  {
   "cell_type": "markdown",
   "metadata": {},
   "source": [
    "### Load trained models"
   ]
  },
  {
   "cell_type": "code",
   "execution_count": 34,
   "metadata": {},
   "outputs": [],
   "source": [
    "class Aggressive_classifier():\n",
    "    \n",
    "    def __init__(self, categories, models):\n",
    "        if(len(categories) != len(models)):\n",
    "            raise Exception(\"The number of categories is not the same as the number of models\")\n",
    "        self.categories = categories\n",
    "        self.models = models\n",
    "    \n",
    "    def predict(self, sentence):\n",
    "        for category, model in zip(self.categories, self.models):\n",
    "            prediction = model.predict( [sentence] )\n",
    "            \n",
    "            if(prediction == 0):\n",
    "                result = \"no\"\n",
    "            else:\n",
    "                result = \"yes\"\n",
    "                \n",
    "            print(category + \" : \" + result)"
   ]
  },
  {
   "cell_type": "code",
   "execution_count": 35,
   "metadata": {},
   "outputs": [],
   "source": [
    "with open(\"../model/svm_trained_model/svm_toxic.pkl\", 'rb') as gs_nb_features_file:\n",
    "    svm_toxic = pickle.load(gs_nb_features_file)\n",
    "\n",
    "with open(\"../model/svm_trained_model/svm_severe_toxic.pkl\", 'rb') as gs_nb_features_file:\n",
    "    svm_severe_toxic = pickle.load(gs_nb_features_file)\n",
    "\n",
    "with open(\"../model/svm_trained_model/svm_obscene.pkl\", 'rb') as gs_nb_features_file:\n",
    "    svm_obscene = pickle.load(gs_nb_features_file)\n",
    "\n",
    "with open(\"../model/svm_trained_model/svm_threat.pkl\", 'rb') as gs_nb_features_file:\n",
    "    svm_threat = pickle.load(gs_nb_features_file)\n",
    "    \n",
    "with open(\"../model/svm_trained_model/svm_insult.pkl\", 'rb') as gs_nb_features_file:\n",
    "    svm_insult = pickle.load(gs_nb_features_file)\n",
    "    \n",
    "with open(\"../model/svm_trained_model/svm_identity_hate.pkl\", 'rb') as gs_nb_features_file:\n",
    "    svm_identity_hate = pickle.load(gs_nb_features_file)\n",
    "\n",
    "my_classifier = Aggressive_classifier([\"toxic\", \"severe_toxic\", \"obscene\", \"threat\", \"insult\", \"identity_hate\"],\n",
    "                                     [svm_toxic, svm_severe_toxic, svm_obscene, svm_threat, svm_insult, svm_identity_hate])"
   ]
  },
  {
   "cell_type": "markdown",
   "metadata": {},
   "source": [
    "### Test models with some tweets"
   ]
  },
  {
   "cell_type": "markdown",
   "metadata": {},
   "source": [
    "#### Test with sentences found in internet"
   ]
  },
  {
   "cell_type": "code",
   "execution_count": 70,
   "metadata": {},
   "outputs": [
    {
     "name": "stdout",
     "output_type": "stream",
     "text": [
      "Thats not what you mum said when I was fucking her from behind last night like the bitch she is.\n",
      "toxic : yes\n",
      "severe_toxic : no\n",
      "obscene : yes\n",
      "threat : no\n",
      "insult : yes\n",
      "identity_hate : no\n",
      "\n",
      "Oooh look at a little cry baby, aren't you just the sorriest lil' bitch that ever breathed.\n",
      "toxic : yes\n",
      "severe_toxic : no\n",
      "obscene : yes\n",
      "threat : no\n",
      "insult : yes\n",
      "identity_hate : no\n",
      "\n",
      "Why don't you go eat a nigger you fat bastard.\n",
      "toxic : yes\n",
      "severe_toxic : no\n",
      "obscene : yes\n",
      "threat : no\n",
      "insult : yes\n",
      "identity_hate : yes\n",
      "\n",
      "I have scraped shit off my shoe that looks prettier than you.\n",
      "toxic : yes\n",
      "severe_toxic : no\n",
      "obscene : yes\n",
      "threat : no\n",
      "insult : no\n",
      "identity_hate : no\n",
      "\n",
      "Why don't you just fuck off and die, dick-bag.\n",
      "toxic : yes\n",
      "severe_toxic : no\n",
      "obscene : yes\n",
      "threat : no\n",
      "insult : yes\n",
      "identity_hate : no\n",
      "\n",
      "You're face looks like you were drop kicked as a kid into a food blender.\n",
      "toxic : no\n",
      "severe_toxic : no\n",
      "obscene : no\n",
      "threat : no\n",
      "insult : no\n",
      "identity_hate : no\n",
      "\n",
      "Yo mumma so fat that is took 3 moutnainteering teams to find your ugly mug when you were born.\n",
      "toxic : yes\n",
      "severe_toxic : no\n",
      "obscene : no\n",
      "threat : no\n",
      "insult : yes\n",
      "identity_hate : no\n",
      "\n"
     ]
    }
   ],
   "source": [
    "sentence = \"Thats not what you mum said when I was fucking her from behind last night like the bitch she is.\"\n",
    "print(sentence)\n",
    "my_classifier.predict(sentence)\n",
    "print()\n",
    "\n",
    "sentence = \"Oooh look at a little cry baby, aren't you just the sorriest lil' bitch that ever breathed.\"\n",
    "print(sentence)\n",
    "my_classifier.predict(sentence)\n",
    "print()\n",
    "\n",
    "sentence = \"Why don't you go eat a nigger you fat bastard.\"\n",
    "print(sentence)\n",
    "my_classifier.predict(sentence)\n",
    "print()\n",
    "\n",
    "sentence = \"I have scraped shit off my shoe that looks prettier than you.\"\n",
    "print(sentence)\n",
    "my_classifier.predict(sentence)\n",
    "print()\n",
    "\n",
    "sentence = \"Why don't you just fuck off and die, dick-bag.\"\n",
    "print(sentence)\n",
    "my_classifier.predict(sentence)\n",
    "print()\n",
    "\n",
    "sentence = \"You're face looks like you were drop kicked as a kid into a food blender.\"\n",
    "print(sentence)\n",
    "my_classifier.predict(sentence)\n",
    "print()\n",
    "\n",
    "sentence = \"Yo mumma so fat that is took 3 moutnainteering teams to find your ugly mug when you were born.\"\n",
    "print(sentence)\n",
    "my_classifier.predict(sentence)\n",
    "print()"
   ]
  },
  {
   "cell_type": "markdown",
   "metadata": {},
   "source": [
    "#### Implicit threats are not detected"
   ]
  },
  {
   "cell_type": "code",
   "execution_count": 64,
   "metadata": {},
   "outputs": [
    {
     "name": "stdout",
     "output_type": "stream",
     "text": [
      "Any difficulty and we will assume control but, when the looting starts, the shooting starts. Thank you!\n",
      "toxic : no\n",
      "severe_toxic : no\n",
      "obscene : no\n",
      "threat : no\n",
      "insult : no\n",
      "identity_hate : no\n"
     ]
    }
   ],
   "source": [
    "implicit_threat = \"Any difficulty and we will assume control but, when the looting starts, the shooting starts. Thank you!\"\n",
    "\n",
    "print(implicit_threat)\n",
    "my_classifier.predict(implicit_threat)"
   ]
  },
  {
   "cell_type": "markdown",
   "metadata": {},
   "source": [
    "#### Verb conjugation not detected"
   ]
  },
  {
   "cell_type": "code",
   "execution_count": 65,
   "metadata": {},
   "outputs": [
    {
     "name": "stdout",
     "output_type": "stream",
     "text": [
      "I kill people\n",
      "toxic : yes\n",
      "severe_toxic : no\n",
      "obscene : no\n",
      "threat : yes\n",
      "insult : no\n",
      "identity_hate : no\n",
      "\n",
      "I am killing people\n",
      "toxic : no\n",
      "severe_toxic : no\n",
      "obscene : no\n",
      "threat : no\n",
      "insult : no\n",
      "identity_hate : no\n"
     ]
    }
   ],
   "source": [
    "verb_infinity = \"I kill people\"\n",
    "print(verb_infinity)\n",
    "my_classifier.predict(verb_infinity)\n",
    "\n",
    "print()\n",
    "\n",
    "verb_gerundio = \"I am killing people\"\n",
    "print(verb_gerundio)\n",
    "my_classifier.predict(verb_gerundio)"
   ]
  },
  {
   "cell_type": "markdown",
   "metadata": {
    "colab_type": "text",
    "id": "l257qyYjPMWL"
   },
   "source": [
    "Reference\n",
    "- https://www.kaggle.com/c/jigsaw-multilingual-toxic-comment-classification/data"
   ]
  },
  {
   "cell_type": "code",
   "execution_count": null,
   "metadata": {
    "colab": {},
    "colab_type": "code",
    "id": "oFjqPN9vPMWM"
   },
   "outputs": [],
   "source": []
  }
 ],
 "metadata": {
  "colab": {
   "collapsed_sections": [],
   "name": "NLP_aggresive_classifier.ipynb",
   "provenance": [],
   "toc_visible": true
  },
  "kernelspec": {
   "display_name": "Python 3",
   "language": "python",
   "name": "python3"
  },
  "language_info": {
   "codemirror_mode": {
    "name": "ipython",
    "version": 3
   },
   "file_extension": ".py",
   "mimetype": "text/x-python",
   "name": "python",
   "nbconvert_exporter": "python",
   "pygments_lexer": "ipython3",
   "version": "3.7.4"
  }
 },
 "nbformat": 4,
 "nbformat_minor": 1
}
